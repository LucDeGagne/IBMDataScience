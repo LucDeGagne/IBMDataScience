{
 "cells": [
  {
   "cell_type": "markdown",
   "id": "74951d77-4ed4-4dc6-bc26-024722e49599",
   "metadata": {},
   "source": [
    "# Data Science Tools and Ecosystem"
   ]
  },
  {
   "cell_type": "markdown",
   "id": "efff64a7-24c1-4cbc-9b2e-cdd86aa43000",
   "metadata": {},
   "source": [
    "In this notebook, Data Science Tools and Ecosystem are summarized."
   ]
  },
  {
   "cell_type": "markdown",
   "id": "c0ce6786-2c76-4b5c-813e-b64896083d81",
   "metadata": {},
   "source": [
    "## Author\n",
    "Lucien DeGagne"
   ]
  },
  {
   "cell_type": "markdown",
   "id": "ecdccac7-993e-462e-8db7-016126e4b1c5",
   "metadata": {},
   "source": [
    "**Objectives:**\n",
    "- List popular languages for Data Science\n",
    "- List popular librairies for Data Science\n",
    "- Run some code including converting minutes to hours."
   ]
  },
  {
   "cell_type": "markdown",
   "id": "20977b7e-cb19-4f2e-bd1e-31587e47fae1",
   "metadata": {},
   "source": [
    "Some of the popular languages that Data Scientists use are:\n",
    "1. Python\n",
    "2. R\n",
    "3. Scala\n",
    "4. SQL"
   ]
  },
  {
   "cell_type": "markdown",
   "id": "5cbc28fe-2da5-46cf-a0b0-cb5ae058f58d",
   "metadata": {},
   "source": [
    "Some of the commonly used libraries used by Data Scientists include:\n",
    "1. matplotlib\n",
    "2. scikitlearn\n",
    "3. numpy\n",
    "4. pandas"
   ]
  },
  {
   "cell_type": "markdown",
   "id": "064d2ff4-67b6-4251-bddb-043f3ea1941f",
   "metadata": {},
   "source": [
    "|Data Science Tools|\n",
    "|------------------|\n",
    "|Jupyter Notebooks|\n",
    "|R Studio|\n",
    "|VS Code|"
   ]
  },
  {
   "cell_type": "markdown",
   "id": "3f227643-6755-432f-9ea1-171b2ed0692e",
   "metadata": {},
   "source": [
    "### Below are a few examples of evaluating arithmetic expressions in Python"
   ]
  },
  {
   "cell_type": "code",
   "execution_count": 3,
   "id": "e017a807-2e00-4e7a-9d22-f1b8bcb931f3",
   "metadata": {},
   "outputs": [
    {
     "data": {
      "text/plain": [
       "17"
      ]
     },
     "execution_count": 3,
     "metadata": {},
     "output_type": "execute_result"
    }
   ],
   "source": [
    "#This a simple arithmetic expression to mutiply then add integers\n",
    "(3*4)+5"
   ]
  },
  {
   "cell_type": "code",
   "execution_count": 4,
   "id": "4a0f4b4a-ea45-477a-a8f1-553f55fe233d",
   "metadata": {},
   "outputs": [
    {
     "data": {
      "text/plain": [
       "3.3333333333333335"
      ]
     },
     "execution_count": 4,
     "metadata": {},
     "output_type": "execute_result"
    }
   ],
   "source": [
    "#This will convert 200 minutes to hours by diving by 60\n",
    "200/60"
   ]
  },
  {
   "cell_type": "markdown",
   "id": "8b8d245d-e6f5-4ef5-8661-7762b1208d39",
   "metadata": {},
   "source": []
  }
 ],
 "metadata": {
  "kernelspec": {
   "display_name": "Python 3 (ipykernel)",
   "language": "python",
   "name": "python3"
  },
  "language_info": {
   "codemirror_mode": {
    "name": "ipython",
    "version": 3
   },
   "file_extension": ".py",
   "mimetype": "text/x-python",
   "name": "python",
   "nbconvert_exporter": "python",
   "pygments_lexer": "ipython3",
   "version": "3.12.8"
  }
 },
 "nbformat": 4,
 "nbformat_minor": 5
}
